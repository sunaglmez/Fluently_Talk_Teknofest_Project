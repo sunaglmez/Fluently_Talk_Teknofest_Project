{
 "cells": [
  {
   "cell_type": "markdown",
   "id": "2320abe3-a036-4f94-88e2-fe3c747386fa",
   "metadata": {},
   "source": [
    "### Metronom Uygulaması"
   ]
  },
  {
   "cell_type": "code",
   "execution_count": 2,
   "id": "4df20a97-a656-4d60-9bf8-916b55899a3e",
   "metadata": {},
   "outputs": [],
   "source": [
    "import tkinter as tk\n",
    "from tkinter import ttk\n",
    "import time\n",
    "import threading\n",
    "import winsound"
   ]
  },
  {
   "cell_type": "raw",
   "id": "e3a81ee6-57b8-47ca-bac8-e5a484dfa4dd",
   "metadata": {},
   "source": [
    "Metronom uygulaması için gerekli olan kütüphaneleri sağlar. 𝙩𝙠𝙞𝙣𝙩𝙚𝙧, GUI (Grafiksel Kullanıcı Arayüzü) uygulamaları oluşturmak için kullanılır. 𝙩𝙩𝙠 𝙢𝙤𝙙𝙪̈𝙡𝙪̈, tkinter modülünün bir parçasıdır ve daha modern görünümlü ve özelleştirilebilir widget'lar (arayüz bileşenleri) sunar. 𝙩𝙞𝙢𝙚 𝙢𝙤𝙙𝙪̈𝙡𝙪̈, zamanla ilgili işlemleri yapmak için kullanılır. 𝙩𝙝𝙧𝙚𝙖𝙙𝙞𝙣𝙜 𝙢𝙤𝙙𝙪̈𝙡𝙪̈, Python'da çoklu iş parçacığı (thread) programlama yapmayı sağlar. 𝙬𝙞𝙣𝙨𝙤𝙪𝙣𝙙 𝙢𝙤𝙙𝙪̈𝙡𝙪̈, Windows platformunda ses çalmak için kullanılır. "
   ]
  },
  {
   "cell_type": "code",
   "execution_count": 3,
   "id": "f248656c-4176-4a85-9064-49192e375474",
   "metadata": {},
   "outputs": [],
   "source": [
    "class MetronomeApp:\n",
    "    def __init__(self, root):\n",
    "        self.root = root\n",
    "        self.root.title(\"Metronome\")\n",
    "        self.root.geometry(\"600x400\")\n",
    "        self.root.configure(bg='#AEC6CF')  # Light grey background\n",
    "        self.is_running = False\n",
    "        self.tempo = 60\n",
    "        self.direction = 1\n",
    "        self.create_widgets()\n",
    "        style = ttk.Style()\n",
    "        style.configure('TFrame', background='#FFFFF0')"
   ]
  },
  {
   "cell_type": "raw",
   "id": "d6083bcd-c5d2-4193-8dd6-00f9a7826740",
   "metadata": {},
   "source": [
    "Bu Python sınıfı, 𝙈𝙚𝙩𝙧𝙤𝙣𝙤𝙢𝙚𝘼𝙥𝙥 adında bir sınıf tanımlar. Sınıf, bir metronom uygulamasının grafik arayüzünü ve işlevselliğini oluşturmak için kullanılır. __𝙞𝙣𝙞𝙩__(𝙨𝙚𝙡𝙛, 𝙧𝙤𝙤𝙩) Bu metod, sınıfın yapıcı (constructor) metodudur.\n",
    "𝙧𝙤𝙤𝙩 parametresi, Tkinter ana penceresini (tk.Tk() objesi) alır ve bu pencere üzerinde metronom uygulamasının başlığını, boyutunu, arka plan rengini ve diğer başlangıç ayarlarını belirler."
   ]
  },
  {
   "cell_type": "code",
   "execution_count": null,
   "id": "0e0bff3e-9c7f-4d5a-8bdf-362f67abc4ca",
   "metadata": {},
   "outputs": [],
   "source": [
    "    def create_widgets(self):\n",
    "        self.tempo_label = ttk.Label(self.root, text=str(self.tempo), font=(\"Helvetica\", 48), background='#AEC6CF')\n",
    "        self.tempo_label.pack(pady=20)\n",
    "\n",
    "        button_frame = ttk.Frame(self.root, padding=10, style='TFrame')\n",
    "        button_frame.pack()\n",
    "\n",
    "        self.decrease_btn_1 = ttk.Button(button_frame, text=\"-1\", command=lambda: self.change_tempo(-1))\n",
    "        self.decrease_btn_1.grid(row=0, column=0, padx=5)\n",
    "\n",
    "        self.increase_btn_1 = ttk.Button(button_frame, text=\"+1\", command=lambda: self.change_tempo(1))\n",
    "        self.increase_btn_1.grid(row=0, column=1, padx=5)\n",
    "\n",
    "        self.decrease_btn_5 = ttk.Button(button_frame, text=\"-5\", command=lambda: self.change_tempo(-5))\n",
    "        self.decrease_btn_5.grid(row=0, column=2, padx=5)\n",
    "\n",
    "        self.increase_btn_5 = ttk.Button(button_frame, text=\"+5\", command=lambda: self.change_tempo(5))\n",
    "        self.increase_btn_5.grid(row=0, column=3, padx=5)"
   ]
  },
  {
   "cell_type": "raw",
   "id": "e4c4a0fd-1587-49be-9524-3a35b402f482",
   "metadata": {},
   "source": [
    "𝙘𝙧𝙚𝙖𝙩𝙚_𝙬𝙞𝙙𝙜𝙚𝙩𝙨 metodunda, 𝙈𝙚𝙩𝙧𝙤𝙣𝙤𝙢𝙚𝘼𝙥𝙥 𝙨ı𝙣ı𝙛ı için GUI bileşenleri oluşturulmaktadır. Bu bileşenler, metronom uygulamasının kullanıcı arayüzünü oluşturmak için kullanılır.\n",
    "\n",
    "𝙨𝙚𝙡𝙛.𝙩𝙚𝙢𝙥𝙤_𝙡𝙖𝙗𝙚𝙡, Tkinter'da bir etiket (label) widget'ıdır ve MetronomeApp sınıfının bir özniteliği olarak tanımlandı. 𝙩𝙩𝙠 𝙢𝙤𝙙𝙪̈𝙡𝙪̈𝙣𝙙𝙚𝙠𝙞, 𝙇𝙖𝙗𝙚𝙡 widget'ını kullanarak bir etiket oluşturulur. Bu etiketin self.tempo(metin içeriği), \"Helvetica\" ve 48 punto(fontu), #AEC6CF(arka plan rengi) belirlenir.\n",
    "\n",
    "𝙥𝙖𝙘𝙠(𝙥𝙖𝙙𝙮=20):pack yöntemiyle etiket (self.tempo_label) pencereye eklenir ve yatay boşluk (pady) 20 piksel olarak ayarlanır.\n",
    "\n",
    "𝙗𝙪𝙩𝙩𝙤𝙣_𝙛𝙧𝙖𝙢𝙚: ttk modülündeki Frame widget'ı kullanılarak bir çerçeve (frame) oluşturulur. Çerçevenin iç kenar boşluğu 10 piksel, stili TFrame olarak belirlenir.\n",
    "\n",
    "𝙨𝙚𝙡𝙛.𝙙𝙚𝙘𝙧𝙚𝙖𝙨𝙚_𝙗𝙩𝙣_1: Bu düğme, button_frame çerçevesine (ttk.Frame) eklenir.𝙩𝙚𝙭𝙩: Düğmenin metni -1 olarak belirlenir.\n",
    "𝙘𝙤𝙢𝙢𝙖𝙣𝙙: Düğmeye tıklandığında çağrılacak işlev (lambda: self.change_tempo(-1)) belirlenir. 𝙨𝙚𝙡𝙛.𝙘𝙝𝙖𝙣𝙜𝙚_𝙩𝙚𝙢𝙥𝙤(-1) 𝙢𝙚𝙩𝙤𝙙𝙪𝙣𝙪 çağırarak metronomun tempo değerini azaltır. 𝙜𝙧𝙞𝙙: Düğmenin button_frame içindeki konumu belirlenir (row=0, column=0). padx=5 ile düğmenin sol ve sağ kenarlarda 5 piksel boşluk bırakılır.\n",
    "\n",
    "self.increase_btn_1 , self.decrease_btn_5, self.increase_btn_5 butonlarıda benzer işlevlere sahiptir. Kullanıcı bu düğmeler aracılığıyla metronomun tempo değerini -1, +1, -5 veya +5 gibi belirli bir artış veya azalışla değiştirebilir. "
   ]
  },
  {
   "cell_type": "code",
   "execution_count": null,
   "id": "8d5be96b-30b4-48e7-b761-d973a965bb59",
   "metadata": {},
   "outputs": [],
   "source": [
    "        self.slider = ttk.Scale(self.root, from_=1, to_=500, orient=\"horizontal\", command=self.slider_changed)\n",
    "        self.slider.set(self.tempo)\n",
    "        self.slider.pack(fill=\"x\", pady=20)\n",
    "\n",
    "        self.canvas = tk.Canvas(self.root, width=200, height=50, bg='#AEC6CF', highlightthickness=0)\n",
    "        self.canvas.pack(pady=20)\n",
    "        self.line = self.canvas.create_line(0, 25, 200, 25, fill='red', width=5)\n",
    "        self.circle = self.canvas.create_oval(90, 15, 110, 35, fill='red')\n",
    "\n",
    "        control_frame = ttk.Frame(self.root, padding=10)\n",
    "        control_frame.pack()\n"
   ]
  },
  {
   "cell_type": "raw",
   "id": "02ad2521-25be-4877-a97b-3c2aefc9d3e1",
   "metadata": {},
   "source": [
    "𝙩𝙩𝙠.𝙎𝙘𝙖𝙡𝙚: Tkinter temalı bir kaydırıcı (slider) widget'ı oluşturur. Slider'ın minimum ve maksimum değerleri 𝙛𝙧𝙤𝙢_=1, 𝙩𝙤_=500 dir. 𝙤𝙧𝙞𝙚𝙣𝙩=\"𝙝𝙤𝙧𝙞𝙯𝙤𝙣𝙩𝙖𝙡\" Slider'ın yatay olmasını sağlar. \n",
    "𝙘𝙤𝙢𝙢𝙖𝙣𝙙=𝙨𝙚𝙡𝙛.𝙨𝙡𝙞𝙙𝙚𝙧_𝙘𝙝𝙖𝙣𝙜𝙚𝙙 Slider değeri değiştiğinde çağrılacak fonksiyon 𝙨𝙚𝙡𝙛.𝙨𝙡𝙞𝙙𝙚𝙧_𝙘𝙝𝙖𝙣𝙜𝙚𝙙 olarak belirlenir.\n",
    "Slider'ın başlangıç değeri 𝙨𝙚𝙡𝙛.𝙩𝙚𝙢𝙥𝙤 dur.\n",
    "𝙨𝙚𝙡𝙛.𝙨𝙡𝙞𝙙𝙚𝙧.𝙥𝙖𝙘𝙠(𝙛𝙞𝙡𝙡=\"𝙭\", 𝙥𝙖𝙙𝙮=20) Slider widget'ı ana pencereye (self.root) yatay olarak yerleştirilir (fill=\"x\"), ve üst-alt boşluk (pady) 20 piksel olarak belirlenir.\n",
    "\n",
    "𝙩𝙠.𝘾𝙖𝙣𝙫𝙖𝙨 Tkinter'ın çizim alanı widget'ı olan Canvas widget'ı oluşturur. Canvas'ın genişliği 200 piksel, yüksekliği 50 piksel, arka plan rengi #AEC6CF (açık gri tonu), highlightthickness=0: Kenar çizgisinin kalınlığı sıfır  \n",
    "\n",
    "𝙨𝙚𝙡𝙛.𝙡𝙞𝙣𝙚 = 𝙨𝙚𝙡𝙛.𝙘𝙖𝙣𝙫𝙖𝙨.𝙘𝙧𝙚𝙖𝙩𝙚_𝙡𝙞𝙣𝙚(0, 25, 200, 25, 𝙛𝙞𝙡𝙡='𝙧𝙚𝙙', 𝙬𝙞𝙙𝙩𝙝=5) Canvas üzerinde kırmızı renkte ve 5 piksel kalınlığında bir çizgi (line) oluşturulur. Çizginin başlangıç ve bitiş noktaları (0, 25) ve (200, 25) olarak belirlenir.\n",
    "𝙨𝙚𝙡𝙛.𝙘𝙞𝙧𝙘𝙡𝙚 = 𝙨𝙚𝙡𝙛.𝙘𝙖𝙣𝙫𝙖𝙨.𝙘𝙧𝙚𝙖𝙩𝙚_𝙤𝙫𝙖𝙡(90, 15, 110, 35, 𝙛𝙞𝙡𝙡='𝙧𝙚𝙙'): Canvas üzerinde kırmızı renkte bir daire (circle) oluşturulur. Dairenin koordinatları (90, 15, 110, 35) olarak belirlenir, bu koordinatlar bir dikdörtgeni belirtir (sol üst köşe ve sağ alt köşe).\n"
   ]
  },
  {
   "cell_type": "code",
   "execution_count": null,
   "id": "164f096c-62f1-4800-bac4-11e61dbc7b17",
   "metadata": {},
   "outputs": [],
   "source": [
    "        self.start_btn = ttk.Button(control_frame, text=\"Start\", command=self.start_metronome)\n",
    "        self.start_btn.grid(row=0, column=0, padx=5)\n",
    "\n",
    "        self.stop_btn = ttk.Button(control_frame, text=\"Stop\", command=self.stop_metronome)\n",
    "        self.stop_btn.grid(row=0, column=1, padx=5)\n",
    "\n",
    "        self.quit_btn = ttk.Button(control_frame, text=\"Quit\", command=self.root.quit)\n",
    "        self.quit_btn.grid(row=0, column=2, padx=5)"
   ]
  },
  {
   "cell_type": "raw",
   "id": "cb6f44f6-fb93-4449-9884-5f6f4b3b8ada",
   "metadata": {},
   "source": [
    "𝙨𝙚𝙡𝙛.𝙨𝙩𝙖𝙧𝙩_𝙗𝙩𝙣, 𝙨𝙚𝙡𝙛.𝙨𝙩𝙤𝙥_𝙗𝙩𝙣, 𝙨𝙚𝙡𝙛.𝙦𝙪𝙞𝙩_𝙗𝙩𝙣 Bu düğmeler, MetronomeApp sınıfının kullanıcı arayüzünde metronomun başlatılması, durdurulması ve uygulamanın kapatılması için gerekli işlevleri gerçekleştiren arayüz bileşenleridir. 𝙩𝙩𝙠.𝘽𝙪𝙩𝙩𝙤𝙣 widget'ları kullanılarak oluşturuldu."
   ]
  },
  {
   "cell_type": "code",
   "execution_count": null,
   "id": "c5f10878-c474-4402-b042-7ec12d3804a0",
   "metadata": {},
   "outputs": [],
   "source": [
    "    def change_tempo(self, value):\n",
    "        self.tempo += value\n",
    "        self.tempo = max(30, min(self.tempo, 240))  # Ensure tempo is between 30 and 240\n",
    "        self.tempo_label.config(text=str(self.tempo))\n",
    "        self.slider.set(self.tempo)\n",
    "\n",
    "    def slider_changed(self, event):\n",
    "        self.tempo = int(float(self.slider.get()))\n",
    "        self.tempo_label.config(text=str(self.tempo))\n",
    "\n",
    "    def start_metronome(self):\n",
    "        if not self.is_running:\n",
    "            self.is_running = True\n",
    "            self.metronome_thread = threading.Thread(target=self.run_metronome)\n",
    "            self.metronome_thread.start()\n",
    "\n",
    "    def stop_metronome(self):\n",
    "        self.is_running = False\n",
    "\n",
    "    def run_metronome(self):\n",
    "        while self.is_running:\n",
    "            self.move_circle()\n",
    "            time.sleep(60 / self.tempo / 50)  # Adjust for smooth movement\n"
   ]
  },
  {
   "cell_type": "raw",
   "id": "c0db222b-d887-4f28-ab43-466101410b5c",
   "metadata": {},
   "source": [
    "𝙘𝙝𝙖𝙣𝙜𝙚_𝙩𝙚𝙢𝙥𝙤(𝙨𝙚𝙡𝙛, 𝙫𝙖𝙡𝙪𝙚) Metodu, metronomun tempo değerini değiştirmek için kullanılır.Tempo değeri 30-240 arasındadır.\n",
    "\n",
    "𝙨𝙡𝙞𝙙𝙚𝙧_𝙘𝙝𝙖𝙣𝙜𝙚𝙙(𝙨𝙚𝙡𝙛, 𝙚𝙫𝙚𝙣𝙩) Metodu, slider (kaydırıcı) değeri değiştiğinde çalışır ve metronomun tempo değerini günceller.\n",
    "\n",
    "𝙨𝙩𝙖𝙧𝙩_𝙢𝙚𝙩𝙧𝙤𝙣𝙤𝙢𝙚(𝙨𝙚𝙡𝙛) Metodu, metronomun çalıştırılması için kullanılır.\n",
    "\n",
    "𝙨𝙩𝙤𝙥_𝙢𝙚𝙩𝙧𝙤𝙣𝙤𝙢𝙚(𝙨𝙚𝙡𝙛) Metodu, metronomun durdurulması için kullanılır.\n",
    "\n",
    "𝙧𝙪𝙣_𝙢𝙚𝙩𝙧𝙤𝙣𝙤𝙢𝙚(𝙨𝙚𝙡𝙛) Metodu, metronomun temel işlevselliğini sağlar. self.is_running değeri True olduğu sürece metronom çalışır. self.move_circle() move_circle metodunu çağırarak, metronomun görsel göstergelerini hareket ettirir.\n",
    "\n",
    "𝙩𝙞𝙢𝙚.𝙨𝙡𝙚𝙚𝙥(60 / 𝙨𝙚𝙡𝙛.𝙩𝙚𝙢𝙥𝙤 / 50) Metronomun düzgün hareket etmesi için bir bekleme süresi belirler. "
   ]
  },
  {
   "cell_type": "code",
   "execution_count": null,
   "id": "c4fb8a90-0054-4a74-9c7c-433399ac4237",
   "metadata": {},
   "outputs": [],
   "source": [
    "    def move_circle(self):\n",
    "        coords = self.canvas.coords(self.circle)\n",
    "        if coords[2] >= 200 or coords[0] <= 0:  # If the circle hits the edge, change direction\n",
    "            self.direction *= -1\n",
    "            self.play_tick()\n",
    "        self.canvas.move(self.circle, self.direction * 4, 0)\n",
    "        self.root.update()\n",
    "\n",
    "    def play_tick(self):\n",
    "        winsound.Beep(1000, 100)  # 1000 Hz frequency, 100 ms duration\n",
    "\n",
    "\n",
    "if __name__ == \"__main__\":\n",
    "    root = tk.Tk()\n",
    "    app = MetronomeApp(root)\n",
    "    root.mainloop()\n"
   ]
  },
  {
   "cell_type": "raw",
   "id": "c6cd9363-c352-49f7-b484-19c8dc06447d",
   "metadata": {},
   "source": [
    "𝙢𝙤𝙫𝙚_𝙘𝙞𝙧𝙘𝙡𝙚(𝙨𝙚𝙡𝙛) Metodu, metronom çemberinin hareketini kontrol eder.\n",
    "\n",
    "𝙥𝙡𝙖𝙮_𝙩𝙞𝙘𝙠(𝙨𝙚𝙡𝙛) Metodu, her metronom tick (zaman dilimi) ses efekti çalınmasını sağlar. \n",
    "𝙬𝙞𝙣𝙨𝙤𝙪𝙣𝙙.𝘽𝙚𝙚𝙥(1000, 100) winsound kütüphanesinde bulunan 𝘽𝙚𝙚𝙥 fonksiyonu kullanılarak, 1000 Hz frekansında ve 100 ms süresinde bir ses efekti çalınır. Bu, metronomun her bir zaman diliminde kullanıcıya bir ses geri bildirimi sağlar.\n",
    "\n",
    "𝙧𝙤𝙤𝙩.𝙢𝙖𝙞𝙣𝙡𝙤𝙤𝙥() Uygulamayı başlatır ve pencerenin kullanıcı etkileşimine açık kalmasını sağlar."
   ]
  }
 ],
 "metadata": {
  "kernelspec": {
   "display_name": "Python 3 (ipykernel)",
   "language": "python",
   "name": "python3"
  },
  "language_info": {
   "codemirror_mode": {
    "name": "ipython",
    "version": 3
   },
   "file_extension": ".py",
   "mimetype": "text/x-python",
   "name": "python",
   "nbconvert_exporter": "python",
   "pygments_lexer": "ipython3",
   "version": "3.11.7"
  }
 },
 "nbformat": 4,
 "nbformat_minor": 5
}
